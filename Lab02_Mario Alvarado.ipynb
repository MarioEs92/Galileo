{
 "cells": [
  {
   "cell_type": "markdown",
   "id": "dbe004da-019d-481b-b6a5-a923064dc0e8",
   "metadata": {},
   "source": [
    "# Laboratorio No 2 - Sintaxis y Estructuras de Datos"
   ]
  },
  {
   "cell_type": "markdown",
   "id": "783ae58c-7631-46c2-8fe5-09577335c8e2",
   "metadata": {},
   "source": [
    "### 1. Programa en Python que reciba de parámetro un número de segundos y que despliegue en pantalla, las horas, minutos y segundos que representan. "
   ]
  },
  {
   "cell_type": "code",
   "execution_count": null,
   "id": "9cef8220-1498-476d-a9aa-2884d3dac58d",
   "metadata": {
    "tags": []
   },
   "outputs": [],
   "source": [
    "def convertir_segundos(segundos):\n",
    "    try:\n",
    "        horas = segundos // 3600\n",
    "        minutos = (segundos % 3600) // 60\n",
    "        segundos = segundos % 60\n",
    "\n",
    "        print(\"Horas: {}, Minutos: {}, Segundos: {}\".format(horas, minutos, segundos))\n",
    "    except TypeError:\n",
    "        print(\"Error: El valor ingresado debe ser un número entero.\")"
   ]
  },
  {
   "cell_type": "code",
   "execution_count": null,
   "id": "a50d20bf-75e2-4be4-bf8c-bd6ead970021",
   "metadata": {
    "tags": []
   },
   "outputs": [],
   "source": [
    "# Ingreso de Dato a Evaluar\n",
    "segundos = input(\"Ingrese el número de segundos: \")\n",
    "try:\n",
    "    segundos = int(segundos)\n",
    "    convertir_segundos(segundos)\n",
    "except ValueError:\n",
    "    print(\"Error: El valor ingresado no es un número entero.\")"
   ]
  },
  {
   "cell_type": "markdown",
   "id": "73908e90-2833-4058-8009-78bb3f670a3b",
   "metadata": {
    "tags": []
   },
   "source": [
    "### 2. funcion en Python que dado un numero entre 1 y 20. Y un caracter cualquiera despliegue cuatro patrones triangulares."
   ]
  },
  {
   "cell_type": "code",
   "execution_count": null,
   "id": "7f840e46-da8d-4369-8d4f-5fe5e7c08e1e",
   "metadata": {
    "tags": []
   },
   "outputs": [],
   "source": [
    "def generacion_patrones(numero, caracter):\n",
    "    if numero < 1 or numero > 20:\n",
    "        print(\"Error: El número debe estar entre 1 y 20.\")\n",
    "        return\n",
    "    for i in range(1, numero + 1):\n",
    "        # Patrón 1: Triángulo rectángulo hacia la derecha\n",
    "        print(caracter * i)\n",
    "    print()  # Agregar una línea en blanco entre los patrones\n",
    "    for i in range(numero, 0, -1):\n",
    "        # Patrón 2: Triángulo rectángulo hacia la izquierda\n",
    "        print(caracter * i)\n",
    "    print()\n",
    "    for i in range(1, numero + 1):\n",
    "        # Patrón 3: Triángulo equilátero\n",
    "        espacios = \" \" * (numero - i)\n",
    "        print(espacios + caracter * (2 * i - 1))\n",
    "    print()\n",
    "    for i in range(numero, 0, -1):\n",
    "        # Patrón 4: Triángulo invertido\n",
    "        espacios = \" \" * (numero - i)\n",
    "        print(espacios + caracter * (2 * i - 1))"
   ]
  },
  {
   "cell_type": "code",
   "execution_count": null,
   "id": "d6ae17cb-3d9e-4706-8ed0-f77147ad18f6",
   "metadata": {
    "tags": []
   },
   "outputs": [],
   "source": [
    "# Ingresos de los datos\n",
    "numero = int(input(\"Ingrese un número entre 1 y 20: \"))\n",
    "caracter = input(\"Ingrese un carácter: \")\n",
    "\n",
    "generacion_patrones(numero, caracter)"
   ]
  },
  {
   "cell_type": "markdown",
   "id": "46bb4e5f-ccd9-41f5-871f-1f21b4d8e29d",
   "metadata": {
    "tags": []
   },
   "source": [
    "### 3. Haga un programa en Python que la fecha de nacimiento de una persona (puede ingresar por separado cada valor, es decir pedir primero dıa, luego mes y luego año), despliegue la edad de la persona en años, meses y dıas. Su resultado puede ser aproximado.."
   ]
  },
  {
   "cell_type": "code",
   "execution_count": null,
   "id": "9a4c926e-e26c-433c-8d4a-d171ce095294",
   "metadata": {
    "tags": []
   },
   "outputs": [],
   "source": [
    "from datetime import date"
   ]
  },
  {
   "cell_type": "code",
   "execution_count": null,
   "id": "e4885ead-a0a3-468d-9db8-588b742251b0",
   "metadata": {
    "tags": []
   },
   "outputs": [],
   "source": [
    "def calculo_edad(dia_nac, mes_nac, anio_nac):\n",
    "    fecha_actual = date.today()\n",
    "    fecha_nacimiento = date(anio_nac,mes_nac, dia_nac)\n",
    "\n",
    "    edad = fecha_actual.year - fecha_nacimiento.year\n",
    "    meses = fecha_actual.month - fecha_nacimiento.month\n",
    "    dias = fecha_actual.day - fecha_nacimiento.day\n",
    "\n",
    "    if meses < 0 or (meses == 0 and dias < 0):\n",
    "        edad -= 1\n",
    "        meses += 12\n",
    "\n",
    "    if dias < 0:\n",
    "        meses -= 1\n",
    "        dias += 31  # Suponiendo que todos los meses tienen 31 días.\n",
    "\n",
    "    print(\"Edad: {} años, {} meses, {} días\".format(edad, meses, dias))"
   ]
  },
  {
   "cell_type": "code",
   "execution_count": null,
   "id": "545f1466-0ac9-4f49-8cc6-bc29bd4673fe",
   "metadata": {
    "tags": []
   },
   "outputs": [],
   "source": [
    "# Ingreso de Datos\n",
    "print(\"Ingrese la fecha de nacimiento:\")\n",
    "dia = int(input(\"Día: \"))\n",
    "mes = int(input(\"Mes: \"))\n",
    "anio = int(input(\"Año: \"))\n",
    "\n",
    "calculo_edad(dia, mes, anio)"
   ]
  },
  {
   "cell_type": "markdown",
   "id": "f677e713-32b4-415e-a925-c7e1fb1c19c4",
   "metadata": {},
   "source": [
    "### 4. Escriba una funcion en Python que dada una tupla de elementos (numeros o letras) esta se convierta a un string. Tomar nota del siguiente ejemplo: Si la entrada fuera: (10, 20, 40, 5, 70) La salida deberıa ser: 102040570."
   ]
  },
  {
   "cell_type": "code",
   "execution_count": null,
   "id": "8228131c-89bf-46ac-91c8-01d847a58b8e",
   "metadata": {
    "tags": []
   },
   "outputs": [],
   "source": [
    "def convertir_tupla_a_string(tupla):\n",
    "    cadena = ''.join(str(elemento) for elemento in tupla)\n",
    "    return cadena"
   ]
  },
  {
   "cell_type": "code",
   "execution_count": null,
   "id": "ca723383-ffac-4fe4-ba61-e1cbc8685f53",
   "metadata": {
    "tags": []
   },
   "outputs": [],
   "source": [
    "print(\"Ingrese una tupla de 5 elementos:\")\n",
    "d1 = (input(\"Dato 1: \"))\n",
    "d2 = (input(\"Dato 2: \"))\n",
    "d3 = (input(\"Dato 3: \"))\n",
    "d4 = (input(\"Dato 4: \"))\n",
    "d5 = (input(\"Dato 5: \"))\n",
    "\n",
    "tupla = (d1, d2, d3,d4, d5)\n",
    "cadena_resultante = convertir_tupla_a_string(tupla)\n",
    "print(cadena_resultante)"
   ]
  },
  {
   "cell_type": "markdown",
   "id": "6fe3f024-eae4-41f6-b307-c816a84adb5d",
   "metadata": {},
   "source": [
    "### 5. Cree un programa en Python que dada una lista de tuplas, elimine las tuplas que estan vacıas"
   ]
  },
  {
   "cell_type": "code",
   "execution_count": null,
   "id": "b9f1799d-5eb4-4ce7-998c-756d404e864b",
   "metadata": {
    "tags": []
   },
   "outputs": [],
   "source": [
    "def eliminar_tuplas_vacias(lista_tuplas):\n",
    "    lista_resultante = [tupla for tupla in lista_tuplas if tupla]\n",
    "    return lista_resultante\n",
    "\n",
    "lista = []\n",
    "while True:\n",
    "    tupla = eval(input(\"Ingrese una tupla (o presione Enter para finalizar): \"))\n",
    "    if tupla == ():\n",
    "        break\n",
    "    lista.append(tupla)\n",
    "\n",
    "lista_resultante = eliminar_tuplas_vacias(lista)\n",
    "print(lista_resultante)"
   ]
  },
  {
   "cell_type": "markdown",
   "id": "e5ddadd5-f94c-4bb2-8447-492e881e626a",
   "metadata": {},
   "source": [
    "### 6. Cree una funcion en Python que dada una tupla de tuplas con numeros, produzca una tupla con el promedio de cada tupla individual, debe usar comprehensions para desarrollar este ejercicio. Tomar nota del siguiente ejemplo: Si la tupla de entrada fuera: ((10, 10, 10, 12), (30, 45, 56, 45), (81, 80, 39, 32)) El resultado deberıa ser: (10.5, 44, 58)"
   ]
  },
  {
   "cell_type": "code",
   "execution_count": null,
   "id": "5ce15c42-47cf-4e0c-88ec-a5419d42fa13",
   "metadata": {
    "tags": []
   },
   "outputs": [],
   "source": [
    "def calculate_averages(data):\n",
    "  return tuple(sum(inner_tuple) / len(inner_tuple) for inner_tuple in data)\n",
    "\n",
    "# Ingreso de Datos\n",
    "data = ((10, 10, 10, 12), (30, 45, 56, 45), (81, 80, 39, 32))\n",
    "averages = calculate_averages(data)\n",
    "\n",
    "print(f\"Original data: {data}\")\n",
    "print(f\"Averages: {averages}\")"
   ]
  },
  {
   "cell_type": "markdown",
   "id": "d68ffc63-be3e-4f12-944b-c2caaa1e1dd8",
   "metadata": {},
   "source": [
    "### 7. Escribir un programa que gestione las facturas pendientes de cobro de una empresa. Las facturas se almacenaran en un diccionario donde la llave de cada factura sera el numero de factura (debe utilizar un numero de 4 dıgitos) y el valor el coste de la factura. El programa debe preguntar al usuario si quiere añadir una nueva factura, pagar una existente o terminar. Si desea añadir una nueva factura se preguntara por el numero de factura y su coste y se añadir´a al diccionario, para confirmar que la factura se ingreso correctamente el programa debe desplegar el diccionario completo. Si se desea pagar una factura se preguntara por el numero de factura y se eliminara del diccionario. Despues de cada operacion el programa debe mostrar en pantalla la cantidad cobrada hasta el momento y la cantidad pendiente de cobro. Puede utilizar otras estructuras de datos como apoyo si lo considera necesario."
   ]
  },
  {
   "cell_type": "code",
   "execution_count": null,
   "id": "29689c4a-01ab-44a3-a041-a084ed47c2be",
   "metadata": {
    "tags": []
   },
   "outputs": [],
   "source": [
    "def main():\n",
    "\n",
    "  #Función principal del programa.\n",
    "\n",
    "  facturas = {}\n",
    "  cantidad_cobrada = 0\n",
    "\n",
    "  while True:\n",
    "    # Opciones que vera el Usuario\n",
    "    print(\"-\" * 40)\n",
    "    print(\"Opciones:\")\n",
    "    print(\"1. Añadir nueva factura\")\n",
    "    print(\"2. Pagar una factura\")\n",
    "    print(\"3. Terminar\")\n",
    "    print(\"-\" * 40)\n",
    "\n",
    "    opcion = int(input(\"Introduzca la opción deseada: \"))\n",
    "\n",
    "    if opcion == 1:\n",
    "      # Proceso para Añadir una nueva factura\n",
    "      numero_factura = int(input(\"Introduzca el número de factura (4 dígitos): \"))\n",
    "      coste_factura = float(input(\"Introduzca el coste de la factura: \"))\n",
    "\n",
    "      if numero_factura not in facturas:\n",
    "        facturas[numero_factura] = coste_factura\n",
    "        print(\"Factura añadida correctamente.\")\n",
    "        print(f\"Diccionario de facturas: {facturas}\")\n",
    "      else:\n",
    "        print(f\"Error: Ya existe una factura con el número {numero_factura}\")\n",
    "\n",
    "    elif opcion == 2:\n",
    "      # Proceso Pagar una factura\n",
    "      numero_factura = int(input(\"Introduzca el número de factura a pagar: \"))\n",
    "\n",
    "      if numero_factura in facturas:\n",
    "        coste_factura = facturas.pop(numero_factura)\n",
    "        cantidad_cobrada += coste_factura\n",
    "        print(f\"Factura pagada correctamente. Se han cobrado {coste_factura}€.\")\n",
    "        print(f\"Cantidad cobrada hasta el momento: {cantidad_cobrada}€\")\n",
    "        print(f\"Cantidad pendiente de cobro: {sum(facturas.values())}€\")\n",
    "      else:\n",
    "        print(f\"Error: No existe una factura con el número {numero_factura}\")\n",
    "\n",
    "    elif opcion == 3:\n",
    "      # Proceso para Terminar el programa\n",
    "      print(\"¡Hasta pronto!\")\n",
    "      break\n",
    "\n",
    "    else:\n",
    "      print(\"Opción no válida. Introduzca un número del 1 al 3.\")\n",
    "\n",
    "\n",
    "if __name__ == \"__main__\":\n",
    "  main()"
   ]
  },
  {
   "cell_type": "markdown",
   "id": "2abea27d-5bea-443b-9f92-8af877416bfa",
   "metadata": {},
   "source": [
    "### 8. Haga una funcion en Python, que cree un set con todas las cartas de una baraja de Pocker utilizando el siguiente formato: Tipo-Numero. Utilice las letras T para treboles, C para corazones, P para picas y E para espadas. Para los numeros utilice la numeracion del 1 al 13. Por ejemplo E13 - serıa Rey de Espadas, P01 serıa As de Picas, T05 serıa cinco de Treboles. Posteriormente cree una funcion que dado el conjunto anterior cree dos sets nuevos de cartas, cada conjunto debe tener una cantidad variable de elementos, puede utilizar numeros aleatorios enteros para definir la longitud de los conjuntos. Adicionalmente, debera calcular la probabilidad de la interseccion de ambos conjuntos y demuestre si son eventos independientes con la regla del producto. Para concluir, calcule probabilidad de la union de ambos conjuntos y demuestre que se cumple la regla de la adicion."
   ]
  },
  {
   "cell_type": "code",
   "execution_count": null,
   "id": "6dba9468-fef7-4558-a5c5-9fb887c27d67",
   "metadata": {
    "tags": []
   },
   "outputs": [],
   "source": [
    "def crear_baraja():\n",
    "  \"\"\"Crea un set con todas las cartas de una baraja de Poker.\"\"\"\n",
    "  palos = \"TCPE\"\n",
    "  numeros = \"0123456789JQKA\"\n",
    "  cartas = set()\n",
    "  for palo in palos:\n",
    "    for numero in numeros:\n",
    "      carta = palo + numero\n",
    "      cartas.add(carta)\n",
    "  return cartas\n",
    "\n",
    "baraja = crear_baraja()\n",
    "print(baraja)\n"
   ]
  },
  {
   "cell_type": "code",
   "execution_count": null,
   "id": "8585daf6-4284-4130-a915-ddff1e40398f",
   "metadata": {
    "tags": []
   },
   "outputs": [],
   "source": [
    "import random\n",
    "\n",
    "def crear_conjuntos(baraja):\n",
    "  \"\"\"Crea dos sets con una cantidad variable de cartas.\"\"\"\n",
    "  n_cartas1 = random.randint(1, len(baraja))\n",
    "  n_cartas2 = random.randint(1, len(baraja))\n",
    "  conjunto1 = random.sample(baraja, n_cartas1)\n",
    "  conjunto2 = random.sample(baraja, n_cartas2)\n",
    "  return conjunto1, conjunto2\n",
    "\n",
    "conjunto1, conjunto2 = crear_conjuntos(baraja)\n",
    "print(conjunto1)\n",
    "print(conjunto2)"
   ]
  },
  {
   "cell_type": "code",
   "execution_count": null,
   "id": "898d3626-11c2-44d6-a8e0-c8ac713e6f2f",
   "metadata": {},
   "outputs": [],
   "source": [
    "def interseccion(conjunto1, conjunto2):\n",
    "  \"\"\"Calcula la probabilidad de la intersección de dos conjuntos.\"\"\"\n",
    "  interseccion = conjunto1 & conjunto2\n",
    "  probabilidad_interseccion = len(interseccion) / len(baraja)\n",
    "  return probabilidad_interseccion\n",
    "\n",
    "probabilidad_interseccion = interseccion(conjunto1, conjunto2)\n",
    "print(probabilidad_interseccion)"
   ]
  },
  {
   "cell_type": "code",
   "execution_count": null,
   "id": "48368a5c-007d-419b-bcf4-a6e21c5989bf",
   "metadata": {},
   "outputs": [],
   "source": [
    "probabilidad_conjunto1 = len(conjunto1) / len(baraja)\n",
    "probabilidad_conjunto2 = len(conjunto2) / len(baraja)\n",
    "probabilidad_independiente = probabilidad_conjunto1 * probabilidad_conjunto2\n",
    "\n",
    "if probabilidad_interseccion == probabilidad_independiente:\n",
    "  print(\"Los eventos son independientes.\")\n",
    "else:\n",
    "  print(\"Los eventos no son independientes.\")"
   ]
  },
  {
   "cell_type": "code",
   "execution_count": null,
   "id": "0ac478f4-59a8-4985-9e22-cd0e0c02283a",
   "metadata": {},
   "outputs": [],
   "source": [
    "def union(conjunto1, conjunto2):\n",
    "  \"\"\"Calcula la probabilidad de la unión de dos conjuntos.\"\"\"\n",
    "  union = conjunto1 | conjunto2\n",
    "  probabilidad_union = len(union) / len(baraja)\n",
    "  return probabilidad_union\n",
    "\n",
    "probabilidad_union = union(conjunto1, conjunto2)\n",
    "print(probabilidad_union)"
   ]
  },
  {
   "cell_type": "code",
   "execution_count": null,
   "id": "4aed49e9-2e0f-408c-9fdf-5dcc7749b6b2",
   "metadata": {},
   "outputs": [],
   "source": [
    "probabilidad_no_conjunto1 = 1 - probabilidad_conjunto1\n",
    "probabilidad_no_conjunto2 = 1 - probabilidad_conjunto2\n",
    "\n",
    "probabilidad_union_teorica = probabilidad_conjunto1 + probabilidad_conjunto2 - probabilidad_interseccion\n",
    "\n",
    "if probabilidad_union == probabilidad_union_teorica:\n",
    "  print(\"Se cumple la regla de la adición.\")\n",
    "else:\n",
    "  print(\"No se cumple la regla de la adición.\")"
   ]
  },
  {
   "cell_type": "code",
   "execution_count": null,
   "id": "abbbe491-2c1c-4b72-8599-8f553a965db0",
   "metadata": {
    "tags": []
   },
   "outputs": [],
   "source": [
    "import random\n",
    "\n",
    "def crear_baraja():\n",
    "    palos = ['T', 'C', 'P', 'E']\n",
    "    numeros = ['01', '02', '03', '04', '05', '06', '07', '08', '09', '10', '11', '12', '13']\n",
    "    baraja = set()\n",
    "\n",
    "    for palo in palos:\n",
    "        for numero in numeros:\n",
    "            carta = palo + numero\n",
    "            baraja.add(carta)\n",
    "\n",
    "    return baraja\n",
    "\n",
    "def crear_conjuntos(baraja):\n",
    "    num_cartas = len(baraja)\n",
    "    longitud_conjunto1 = random.randint(1, num_cartas)\n",
    "    longitud_conjunto2 = random.randint(1, num_cartas)\n",
    "\n",
    "    conjunto1 = set(random.sample(baraja, longitud_conjunto1))\n",
    "    conjunto2 = set(random.sample(baraja, longitud_conjunto2))\n",
    "\n",
    "    return conjunto1, conjunto2\n",
    "\n",
    "def calcular_probabilidad_interseccion(conjunto1, conjunto2):\n",
    "    interseccion = conjunto1.intersection(conjunto2)\n",
    "    probabilidad = len(interseccion) / len(conjunto1) * len(conjunto2)\n",
    "    return probabilidad\n",
    "\n",
    "def calcular_probabilidad_union(conjunto1, conjunto2):\n",
    "    union = conjunto1.union(conjunto2)\n",
    "    probabilidad = len(union) / len(conjunto1) * len(conjunto2)\n",
    "    return probabilidad\n",
    "\n",
    "# Crear la baraja\n",
    "baraja = crear_baraja()\n",
    "\n",
    "# Crear los conjuntos\n",
    "conjunto1, conjunto2 = crear_conjuntos(baraja)\n",
    "\n",
    "# Calcular la probabilidad de la intersección\n",
    "prob_interseccion = calcular_probabilidad_interseccion(conjunto1, conjunto2)\n",
    "\n",
    "# Calcular la probabilidad de la unión\n",
    "prob_union = calcular_probabilidad_union(conjunto1, conjunto2)\n",
    "\n",
    "# Imprimir los resultados\n",
    "print(\"Conjunto 1:\", conjunto1)\n",
    "print(\"Conjunto 2:\", conjunto2)\n",
    "print(\"Probabilidad de la intersección:\", prob_interseccion)\n",
    "print(\"Probabilidad de la unión:\", prob_union)"
   ]
  },
  {
   "cell_type": "code",
   "execution_count": null,
   "id": "fc9c8b71-726c-49f4-9d8a-b1905dd5e962",
   "metadata": {},
   "outputs": [],
   "source": []
  }
 ],
 "metadata": {
  "kernelspec": {
   "display_name": "Python 3 (ipykernel)",
   "language": "python",
   "name": "python3"
  },
  "language_info": {
   "codemirror_mode": {
    "name": "ipython",
    "version": 3
   },
   "file_extension": ".py",
   "mimetype": "text/x-python",
   "name": "python",
   "nbconvert_exporter": "python",
   "pygments_lexer": "ipython3",
   "version": "3.11.5"
  }
 },
 "nbformat": 4,
 "nbformat_minor": 5
}
